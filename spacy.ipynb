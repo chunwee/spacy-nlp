{
 "cells": [
  {
   "cell_type": "markdown",
   "metadata": {},
   "source": [
    "# Spacy NLP"
   ]
  },
  {
   "cell_type": "code",
   "execution_count": 13,
   "metadata": {},
   "outputs": [],
   "source": [
    "# Libraries\n",
    "import spacy\n",
    "from tqdm import tqdm\n",
    "from spacy import displacy\n",
    "from spacy.tokenizer import Tokenizer\n",
    "from spacy.lang.en import English"
   ]
  },
  {
   "cell_type": "markdown",
   "metadata": {},
   "source": [
    "## Sample Text"
   ]
  },
  {
   "cell_type": "code",
   "execution_count": 2,
   "metadata": {},
   "outputs": [],
   "source": [
    "text = \"Before boarding your rocket to Mars on 22nd April 1923, remember to pack these items in a bag so they will be within arm’s reach on arrival.\""
   ]
  },
  {
   "cell_type": "markdown",
   "metadata": {},
   "source": [
    "## Tokenization"
   ]
  },
  {
   "cell_type": "code",
   "execution_count": 3,
   "metadata": {},
   "outputs": [],
   "source": [
    "# Load model\n",
    "nlp = spacy.load('en_core_web_lg')"
   ]
  },
  {
   "cell_type": "markdown",
   "metadata": {},
   "source": [
    "### Default tokenizer"
   ]
  },
  {
   "cell_type": "code",
   "execution_count": 4,
   "metadata": {},
   "outputs": [
    {
     "name": "stdout",
     "output_type": "stream",
     "text": [
      "Before, boarding, your, rocket, to, Mars, on, 22nd, April, 1923, ,, remember, to, pack, these, items, in, a, bag, so, they, will, be, within, arm, ’s, reach, on, arrival, ., "
     ]
    }
   ],
   "source": [
    "tokenizer = nlp.tokenizer\n",
    "tokens = tokenizer(text)\n",
    "\n",
    "default = []\n",
    "\n",
    "for token in tokens:\n",
    "    print(token, end = ', ')\n",
    "    default.append(token)"
   ]
  },
  {
   "cell_type": "markdown",
   "metadata": {},
   "source": [
    "### Blank Tokenizer with English Vocab"
   ]
  },
  {
   "cell_type": "code",
   "execution_count": 5,
   "metadata": {},
   "outputs": [
    {
     "name": "stdout",
     "output_type": "stream",
     "text": [
      "Before, boarding, your, rocket, to, Mars, on, 22nd, April, 1923,, remember, to, pack, these, items, in, a, bag, so, they, will, be, within, arm’s, reach, on, arrival., "
     ]
    }
   ],
   "source": [
    "nlp = English()\n",
    "\n",
    "# Blank tokenizer with English vocab\n",
    "tokenizer = Tokenizer(nlp.vocab)\n",
    "tokens = tokenizer(text)\n",
    "\n",
    "blank = []\n",
    "\n",
    "for token in tokens:\n",
    "    print(token, end = ', ')\n",
    "    blank.append(token)"
   ]
  },
  {
   "cell_type": "markdown",
   "metadata": {},
   "source": [
    "### Comparison"
   ]
  },
  {
   "cell_type": "code",
   "execution_count": 6,
   "metadata": {},
   "outputs": [
    {
     "name": "stdout",
     "output_type": "stream",
     "text": [
      "[Before, boarding, your, rocket, to, Mars, on, 22nd, April, 1923,, remember, to, pack, these, items, in, a, bag, so, they, will, be, within, arm’s, reach, on, arrival.]\n",
      "[Before, boarding, your, rocket, to, Mars, on, 22nd, April, 1923, ,, remember, to, pack, these, items, in, a, bag, so, they, will, be, within, arm, ’s, reach, on, arrival, .]\n"
     ]
    }
   ],
   "source": [
    "print(blank)\n",
    "print(default)\n",
    "\n",
    "## Notice the differences between both tokenizers"
   ]
  },
  {
   "cell_type": "markdown",
   "metadata": {},
   "source": [
    "## Parts of Speech (POS) Tagging"
   ]
  },
  {
   "cell_type": "code",
   "execution_count": 7,
   "metadata": {},
   "outputs": [
    {
     "name": "stdout",
     "output_type": "stream",
     "text": [
      "Before ADP\n",
      "boarding VERB\n",
      "your PRON\n",
      "rocket NOUN\n",
      "to ADP\n",
      "Mars PROPN\n",
      "on ADP\n",
      "22nd ADJ\n",
      "April PROPN\n",
      "1923 NUM\n",
      ", PUNCT\n",
      "remember VERB\n",
      "to PART\n",
      "pack VERB\n",
      "these DET\n",
      "items NOUN\n",
      "in ADP\n",
      "a DET\n",
      "bag NOUN\n",
      "so SCONJ\n",
      "they PRON\n",
      "will AUX\n",
      "be AUX\n",
      "within ADP\n",
      "arm NOUN\n",
      "’s NOUN\n",
      "reach VERB\n",
      "on ADP\n",
      "arrival NOUN\n",
      ". PUNCT\n"
     ]
    }
   ],
   "source": [
    "nlp = spacy.load('en_core_web_sm')\n",
    "doc = nlp(text)\n",
    "\n",
    "for token in doc:\n",
    "    print (token,token.pos_)"
   ]
  },
  {
   "cell_type": "markdown",
   "metadata": {},
   "source": [
    "### Only identify verbs"
   ]
  },
  {
   "cell_type": "code",
   "execution_count": 8,
   "metadata": {},
   "outputs": [
    {
     "name": "stdout",
     "output_type": "stream",
     "text": [
      "Verbs: ['boarding', 'remember', 'pack', 'reach']\n"
     ]
    }
   ],
   "source": [
    "print(\"Verbs:\", [token.text for token in doc if token.pos_ == \"VERB\"])"
   ]
  },
  {
   "cell_type": "markdown",
   "metadata": {},
   "source": [
    "## Lemmatization"
   ]
  },
  {
   "cell_type": "markdown",
   "metadata": {},
   "source": [
    "#### Lemmatization: Reducing different forms of a word to a singular form"
   ]
  },
  {
   "cell_type": "code",
   "execution_count": 9,
   "metadata": {},
   "outputs": [
    {
     "name": "stdout",
     "output_type": "stream",
     "text": [
      "Before before\n",
      "boarding board\n",
      "your your\n",
      "rocket rocket\n",
      "to to\n",
      "Mars Mars\n",
      "on on\n",
      "22nd 22nd\n",
      "April April\n",
      "1923 1923\n",
      ", ,\n",
      "remember remember\n",
      "to to\n",
      "pack pack\n",
      "these these\n",
      "items item\n",
      "in in\n",
      "a a\n",
      "bag bag\n",
      "so so\n",
      "they they\n",
      "will will\n",
      "be be\n",
      "within within\n",
      "arm arm\n",
      "’s ’\n",
      "reach reach\n",
      "on on\n",
      "arrival arrival\n",
      ". .\n"
     ]
    }
   ],
   "source": [
    "nlp = spacy.load(\"en_core_web_sm\")\n",
    "\n",
    "doc = nlp(text)\n",
    "\n",
    "for token in doc:\n",
    "    print(token, token.lemma_)"
   ]
  },
  {
   "cell_type": "markdown",
   "metadata": {},
   "source": [
    "## NER"
   ]
  },
  {
   "cell_type": "code",
   "execution_count": 10,
   "metadata": {},
   "outputs": [],
   "source": [
    "# Spacy model\n",
    "lg = spacy.load('en_core_web_lg')"
   ]
  },
  {
   "cell_type": "code",
   "execution_count": 11,
   "metadata": {},
   "outputs": [],
   "source": [
    "doc = lg(text)"
   ]
  },
  {
   "cell_type": "code",
   "execution_count": 12,
   "metadata": {},
   "outputs": [
    {
     "data": {
      "text/html": [
       "<span class=\"tex2jax_ignore\"><div class=\"entities\" style=\"line-height: 2.5; direction: ltr\">Before boarding your rocket to \n",
       "<mark class=\"entity\" style=\"background: #ff9561; padding: 0.45em 0.6em; margin: 0 0.25em; line-height: 1; border-radius: 0.35em;\">\n",
       "    Mars\n",
       "    <span style=\"font-size: 0.8em; font-weight: bold; line-height: 1; border-radius: 0.35em; vertical-align: middle; margin-left: 0.5rem\">LOC</span>\n",
       "</mark>\n",
       " on \n",
       "<mark class=\"entity\" style=\"background: #bfe1d9; padding: 0.45em 0.6em; margin: 0 0.25em; line-height: 1; border-radius: 0.35em;\">\n",
       "    22nd April 1923\n",
       "    <span style=\"font-size: 0.8em; font-weight: bold; line-height: 1; border-radius: 0.35em; vertical-align: middle; margin-left: 0.5rem\">DATE</span>\n",
       "</mark>\n",
       ", remember to pack these items in a bag so they will be within arm’s reach on arrival.</div></span>"
      ],
      "text/plain": [
       "<IPython.core.display.HTML object>"
      ]
     },
     "metadata": {},
     "output_type": "display_data"
    }
   ],
   "source": [
    "displacy.render(doc, style = 'ent')"
   ]
  }
 ],
 "metadata": {
  "kernelspec": {
   "display_name": "Python 3.9.15 ('dp')",
   "language": "python",
   "name": "python3"
  },
  "language_info": {
   "codemirror_mode": {
    "name": "ipython",
    "version": 3
   },
   "file_extension": ".py",
   "mimetype": "text/x-python",
   "name": "python",
   "nbconvert_exporter": "python",
   "pygments_lexer": "ipython3",
   "version": "3.9.15"
  },
  "orig_nbformat": 4,
  "vscode": {
   "interpreter": {
    "hash": "7e081d3b5f60c0ebbd38959c03c7c2d07307c4ada80f42a10f6aaf293f74d342"
   }
  }
 },
 "nbformat": 4,
 "nbformat_minor": 2
}
